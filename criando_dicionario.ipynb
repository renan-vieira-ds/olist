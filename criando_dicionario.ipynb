{
 "cells": [
  {
   "cell_type": "code",
   "execution_count": 0,
   "metadata": {
    "application/vnd.databricks.v1+cell": {
     "cellMetadata": {
      "byteLimit": 2048000,
      "rowLimit": 10000
     },
     "inputWidgets": {},
     "nuid": "b4d50657-a1cd-4711-a77c-5a463a561bfc",
     "showTitle": false,
     "tableResultSettingsMap": {},
     "title": ""
    }
   },
   "outputs": [],
   "source": [
    "import json\n",
    "import pandas as pd\n",
    "import re"
   ]
  },
  {
   "cell_type": "code",
   "execution_count": 0,
   "metadata": {
    "application/vnd.databricks.v1+cell": {
     "cellMetadata": {
      "byteLimit": 2048000,
      "rowLimit": 10000
     },
     "inputWidgets": {},
     "nuid": "b54d7bde-2313-49c2-8048-e4d38e24c9f1",
     "showTitle": false,
     "tableResultSettingsMap": {},
     "title": ""
    }
   },
   "outputs": [],
   "source": [
    "with open('artifacts/brazilian-ecommerce-metadata.json', encoding='utf-8') as f:\n",
    "    data = json.load(f)\n",
    "\n",
    "linhas = []\n",
    "\n",
    "# Itera sobre os recordSets (tabelas)\n",
    "for record in data[\"recordSet\"]:\n",
    "    nome_arquivo = record[\"name\"]\n",
    "    descricao_tabela = record.get(\"description\", \"\").strip()\n",
    "\n",
    "    # Limpa o nome da tabela\n",
    "    nome_tabela = re.sub(r'^olist_', '', nome_arquivo)\n",
    "    nome_tabela = re.sub(r'_dataset.*$', '', nome_tabela)\n",
    "    nome_tabela = re.sub(r'\\.csv$', '', nome_tabela)\n",
    "\n",
    "    for campo in record[\"field\"]:\n",
    "        nome_coluna = campo[\"name\"]\n",
    "        descricao_coluna = campo.get(\"description\", \"\")\n",
    "        tipo_coluna_raw = campo.get(\"dataType\", [])\n",
    "        \n",
    "        # Limpeza dos tipos\n",
    "        tipo_coluna = ', '.join([re.sub(r'^sc:', '', t) for t in tipo_coluna_raw])\n",
    "\n",
    "        linhas.append({\n",
    "            \"tabela\": nome_tabela,\n",
    "            \"coluna\": nome_coluna,\n",
    "            \"descricao_coluna\": descricao_coluna,\n",
    "            \"tipo_coluna\": tipo_coluna\n",
    "        })\n",
    "\n",
    "df = pd.DataFrame(linhas)\n",
    "\n",
    "display(df.head())"
   ]
  },
  {
   "cell_type": "code",
   "execution_count": 0,
   "metadata": {
    "application/vnd.databricks.v1+cell": {
     "cellMetadata": {
      "byteLimit": 2048000,
      "rowLimit": 10000
     },
     "inputWidgets": {},
     "nuid": "e88bdeee-b943-475e-b85e-3c0693191971",
     "showTitle": false,
     "tableResultSettingsMap": {},
     "title": ""
    }
   },
   "outputs": [],
   "source": [
    "df.to_csv('artifacts/dicionario.csv', index=False)"
   ]
  },
  {
   "cell_type": "code",
   "execution_count": 0,
   "metadata": {
    "application/vnd.databricks.v1+cell": {
     "cellMetadata": {},
     "inputWidgets": {},
     "nuid": "5485eebd-6f9e-471b-af66-367677a1b0e0",
     "showTitle": false,
     "tableResultSettingsMap": {},
     "title": ""
    }
   },
   "outputs": [],
   "source": []
  }
 ],
 "metadata": {
  "application/vnd.databricks.v1+notebook": {
   "computePreferences": null,
   "dashboards": [],
   "environmentMetadata": {
    "base_environment": "",
    "environment_version": "2"
   },
   "inputWidgetPreferences": null,
   "language": "python",
   "notebookMetadata": {
    "pythonIndentUnit": 4
   },
   "notebookName": "criando_dicionario",
   "widgets": {}
  },
  "language_info": {
   "name": "python"
  }
 },
 "nbformat": 4,
 "nbformat_minor": 0
}
